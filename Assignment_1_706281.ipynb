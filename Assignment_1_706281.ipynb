{
 "cells": [
  {
   "cell_type": "markdown",
   "id": "22c3933d-cc8a-4288-b1c0-5da718ae542b",
   "metadata": {},
   "source": [
    "# Learning from Big Data: Module 1 - Final Assignment\n",
    "#### Student Name: Yihong Yao (706281yy)"
   ]
  },
  {
   "cell_type": "markdown",
   "id": "592fa644-fe0c-4e3b-aa36-d220d7337764",
   "metadata": {},
   "source": [
    "# Introduction"
   ]
  },
  {
   "cell_type": "markdown",
   "id": "6e580859-86f2-4156-995b-59938c2e3a62",
   "metadata": {},
   "source": [
    "This file provides a template for **Assignment 1** from the Learning from Big Data course. This Jupyter Notebook file was prepared to save you time so that you can focus on the theory and technical parts of the methods seen in class. This was prepared with a specific application in mind: *movie reviews*. For the supervised learning tasks, we will focus on three topics: acting, storyline, and visual/sound effects. You have by now received the dataset of reviews, the three dictionaries with the training set of words for each topic, a list of stopwords, and a validation dataset containing sentences classified by a panel of human judges. This Jupyter Notebook file has a lot of (Python) code written to handle things such as leading these data files and general settings of the environment we use to perform the analysis. The supervised learning code in this file was covered in **Session 02**. This Jupyter Notebook file will load all the above-mentioned files and make them available for you to use them for solving the NLP problems listed here. The questions **you are to answer** are marked as \"`QUESTION`\". The parts **you are expected to code yourself** are marked as \"`# ADD YOUR CODE HERE`\". There, you are expected to write your own code based on the in-class discussions and the decisions you will make as you study the theory, material, and models."
   ]
  },
  {
   "cell_type": "markdown",
   "id": "049a700a-ecff-4703-b5f6-6cf177018095",
   "metadata": {},
   "source": [
    "#### This assignment has the following structure:\n",
    "1. **General Guidelines**\n",
    "2. **Research Question**\n",
    "3. **Load the Packages**\n",
    "4. **Load the Reviews**\n",
    "5. **Data Aggregation and Formatting**\n",
    "6. **Supervised Learning: The Naive Bayes Classifier (NBC)**\n",
    "7. **Supervised Learning: Inspect the NBC Performance**\n",
    "8. **Unsupervised Learning: Predicting the Box Office using LDA**\n",
    "9. **Unsupervised Learning: Predicting the Box Office using Word2Vec**\n",
    "10. **Analysis - Answering the Research Question**\n",
    "11. **OPTIONAL - Run and interpret the VADER lexicon for sentiment**\n",
    "12. **APPENDIX**"
   ]
  },
  {
   "cell_type": "markdown",
   "id": "ad34c54a-0507-4507-84d8-11077b7ecb6f",
   "metadata": {},
   "source": [
    "# 1. General Guidelines"
   ]
  },
  {
   "cell_type": "markdown",
   "id": "d675b7a6-9a9b-40d1-b854-385a651e5a35",
   "metadata": {},
   "source": [
    "**Page limit**. This template has 8 pages, and you are allowed to add 8 to 10 pages (not including the appendix). Even though there is a page limit, you have the possibility of using appendices, which do not have a limitation in the number of pages. Use your pages wisely. For example, having a table with 2 rows and 3 columns that uses 50% (or even 25%) of a page is not really wise."
   ]
  },
  {
   "cell_type": "markdown",
   "id": "f905274a-44dc-4cb3-b777-869d7d4dddb5",
   "metadata": {},
   "source": [
    "# 2. Research Question"
   ]
  },
  {
   "cell_type": "markdown",
   "id": "b60d757a-86ff-4b28-a967-106867a585b2",
   "metadata": {},
   "source": [
    "`QUESTION I:` Present here the main research question you are going to answer with your text analysis.\n",
    "You are free to choose the problem and change it until the last minute before handing in your report. However, your question should not be so simple that it does not require text analysis. For example, if your question can be answered by reading two reviews, you do not need text analysis; all you need is 10 seconds to read two reviews. Your question should not be so difficult that you cannot answer in your report. Your question needs to be answered in these pages.\n"
   ]
  },
  {
   "cell_type": "markdown",
   "id": "72bda564-933f-4635-bdf8-4f8433a0ed76",
   "metadata": {},
   "source": [
    "`SOLUTION I:`\n",
    "- **Review Usefulness and Engagement**:\n",
    "    - **Topic**: Analyze the factors influencing the usefulness and engagement of movie reviews, such as the number of readers, ratings, and the category of content.\n",
    "    - **Reason**: Understanding what makes a movie review useful or engaging can provide insights into how to write more effective reviews and help platforms improve their review recommendation algorithms.\n",
    "    - **Time Frame**: Use data **from the entire dataset** without specific time frame restrictions.\n",
    "    - **Form of Aggregation**: Calculate statistics on review engagement metrics (e.g., average number of readers, average rating) and analyze how they correlate with review content."
   ]
  },
  {
   "cell_type": "markdown",
   "id": "d3ad0d6d-9027-44c0-a5c2-6fc68fdd25c4",
   "metadata": {},
   "source": [
    "# 3. Load the Packages"
   ]
  },
  {
   "cell_type": "markdown",
   "id": "07cb610e-8067-48c0-bbe9-42854f08f160",
   "metadata": {},
   "source": [
    "Before starting the problem set, make sure that you have all the required packages installed properly. Simply run the code cell below (Shift-Enter). **Note**: you are free to add other packages."
   ]
  },
  {
   "cell_type": "code",
   "execution_count": null,
   "id": "3f4aaa19-c7e8-4a7b-a8d2-42c2a4d21938",
   "metadata": {},
   "outputs": [],
   "source": [
    "import re\n",
    "import string\n",
    "import numpy as np\n",
    "import pandas as pd\n",
    "import statsmodels.api as sm\n",
    "import matplotlib.pyplot as plt\n",
    "from collections import Counter, namedtuple\n",
    "from sklearn.feature_extraction import text\n",
    "from sklearn.feature_extraction.text import CountVectorizer\n",
    "from sklearn.metrics import confusion_matrix, accuracy_score\n",
    "from sklearn.naive_bayes import MultinomialNB\n",
    "from sklearn.metrics import confusion_matrix, classification_report\n",
    "from sklearn.model_selection import train_test_split\n",
    "from sklearn.decomposition import LatentDirichletAllocation\n",
    "from sklearn.linear_model import LinearRegression\n",
    "from sklearn.decomposition import PCA\n",
    "from sklearn.metrics import mean_squared_error, r2_score\n",
    "from nltk.corpus import stopwords\n",
    "from gensim.models import Word2Vec\n",
    "from gensim.utils import simple_preprocess\n",
    "from vaderSentiment.vaderSentiment import SentimentIntensityAnalyzer"
   ]
  },
  {
   "cell_type": "markdown",
   "id": "346fffeb-b36d-4362-ae78-8a1fc44dedcc",
   "metadata": {},
   "source": [
    "# 4. Load the Reviews"
   ]
  },
  {
   "cell_type": "markdown",
   "id": "b3f00046-9097-4e32-a2d7-29229c16d84c",
   "metadata": {},
   "source": [
    "We will explore the concepts from this problem set with a dataset of online movie reviews. The reviews were written from 2009 to 2013. The data was collected in 2014. Each observation in the data includes the textual review, a numerical rating from 1 to 10 (i.e., the number of stars), the movie title, the reviewer, and the date the review was written. The observation includes data from the moving being reviewed: the movie release data, the box office in the first week (as that is the strongest predictor of movie success), the studio that produced the movie, the number of theaters that the movie was released in, and the MPAA rating. The review also includes two pieces of information on the quality of the review itself: the number of readers who found the review useful, and the number of readers who rated the review as useful or not useful. There are reviews that no one rate as useful or not useful. The date in which a review was rated is not available."
   ]
  },
  {
   "cell_type": "markdown",
   "id": "e23532f2-050f-452a-94cf-06d511c96298",
   "metadata": {},
   "source": [
    "### The data set contains the following 19 columns:\n",
    "+ **movie_name**: title of the movie being reviewed.\n",
    "+ **review_code**: a unique serial identifier for all the reviews in this dataset.\n",
    "+ **reviewer**: the reviewer who wrote the review.\n",
    "+ **num_eval**: the number of stars.\n",
    "+ **review_date**: the date the review was written.\n",
    "+ **prob_sentiment**: a placeholder variable to store the probability the review is positive. `TODO`: You need to compute this.\n",
    "+ **words_in_lexicon_sentiment_and_review**: the number of words that are found both in the review and in the sentiment lexicon you will be using.\n",
    "+ **ratio_helpful**: number of people that rated the review as useful divided by the total number of people that rated the review.\n",
    "+ **raters**: number of people that rated the review as either useful or not useful.\n",
    "+ **prob_storyline**: a placeholder variable to store the probability the review is about the movie storyline.\n",
    "+ **prob_acting**: a placeholder variable to store the probability the review is about acting.\n",
    "+ **prob_sound_visual**: a placeholder variable to store the probability that the review is about the movie special effects (sound or visual).\n",
    "+ **full_text**: raw review text.\n",
    "+ **processed_text**: the cleaned review text, free of punctuation marks.\n",
    "+ **release_date**: the day the movie was released.\n",
    "+ **first_week_box_office**: number of movie theaters tickets sold in the first week from movie release. Data from boxofficemojo.com\n",
    "+ **MPAA**: MPAA rating of the movie (e.g., PG-rated).\n",
    "+ **studio**: movie studio that produced the movie.\n",
    "+ **num_theaters**: number of movie theaters that this movie was shown on the release date. Data from boxofficemojo.com"
   ]
  },
  {
   "cell_type": "markdown",
   "id": "8d782cb1-995a-438b-9d18-ac2560da8515",
   "metadata": {},
   "source": [
    "### Loading the reviews:"
   ]
  },
  {
   "cell_type": "code",
   "execution_count": null,
   "id": "c9e96352-fe9e-4c75-9710-3f7b2315dc92",
   "metadata": {},
   "outputs": [],
   "source": [
    "reviews_raw = pd.read_csv('reviews_tiny.csv', encoding='ISO-8859-1')\n",
    "reviews_raw = reviews_raw[['movie_name','review_code','reviewer','review_date','num_eval','prob_sentiment','words_in_lexicon_sentiment_and_review','ratio_helpful','raters','prob_storyline','prob_acting','prob_sound_visual','full_text','processed_text','release_date','first_week_box_office','MPAA','studio','num_theaters']]"
   ]
  },
  {
   "cell_type": "markdown",
   "id": "4827ae7a-b3c3-49e1-b1a0-db75d5404475",
   "metadata": {},
   "source": [
    "# 5. Data Aggregation and Formatting"
   ]
  },
  {
   "cell_type": "markdown",
   "id": "53f6f6c9-60cc-4e51-88ba-5ba160bd235f",
   "metadata": {},
   "source": [
    "`QUESTION II:` Decide on how to aggregate or structure your data. The data you received is at the review level (i.e., each row/observation is a review). However, the variablese in the data are very rich and allow you to use your creativity when designing your *research question*. For example, there are timestamps, which allow you to aggregate the data at the daily level (or even hourly level). There is information on reviewers, which allow you to inspect patterns of rating by reviewers. There is information on the studio's, and more. Please explicitly indicate how you structured your dataset, and what is your motivation to do so. Even if you are using the data at the review level, indicate how and why that is needed for your research question. "
   ]
  },
  {
   "cell_type": "markdown",
   "id": "f6af5c2e-27cf-4af0-b1ec-306b5dbe77ba",
   "metadata": {},
   "source": [
    "`SOLUTION II:`\n",
    "- **Review-Level Analysis:**\n",
    "    - **Structure:** Keep the dataset at the review level, with each row representing an individual review. This level of granularity is necessary to analyze specific review characteristics and their impact.\n",
    "    - **Motivation:** Analyzing at the review level allows us to directly investigate the content of each review, including the text, the reviewer, the number of stars (rating), and the engagement metrics (number of readers, ratings, etc.). This detailed level is crucial for understanding what factors within individual reviews drive usefulness and engagement."
   ]
  },
  {
   "cell_type": "markdown",
   "id": "eb510ef1-a216-4950-9b1a-8431a2eb6750",
   "metadata": {},
   "source": [
    "# 6. Supervised Learning: the Naive Bayes Classifier (NBC)"
   ]
  },
  {
   "cell_type": "markdown",
   "id": "e07564b4-0ffa-4442-badb-786737034bd7",
   "metadata": {},
   "source": [
    "## 6.0 Load Support Functions and Global Parameters"
   ]
  },
  {
   "cell_type": "markdown",
   "id": "667e62f4-0412-42c0-83ca-39ff3a240434",
   "metadata": {},
   "source": [
    "The two functions, `compute_posterior_sentiment` and `compute_posterior_content`, are called once per review. These functions use the Bayes rule we saw in **Session 02** to compute the posterior probabilities that the review is about each topic (in the 2nd function) and the posterior probability that the sentiment in the review is positive and/or negative (in the 1st function). The functions are loading by executing the code cell below."
   ]
  },
  {
   "cell_type": "code",
   "execution_count": null,
   "id": "aca5f54d-3c14-4ee4-b23b-caa26da78be5",
   "metadata": {},
   "outputs": [],
   "source": [
    "# Function for computing posterior sentiment\n",
    "def compute_posterior_sentiment(prior, corpus_in, dict_words, p_w_given_c, TOT_DIMENSIONS):\n",
    "    prior = np.array(prior)\n",
    "    vec = CountVectorizer(vocabulary=dict_words, lowercase=True)\n",
    "    word_matrix = vec.fit_transform([corpus_in]).toarray()\n",
    "    # Check if there are any relevant words in the review, if there are, treat them. If not, use the prior.\n",
    "    if word_matrix.sum() == 0:\n",
    "        posterior = prior\n",
    "        words_ = ['']\n",
    "    else:\n",
    "        # Positions in word matrix that have words from this review\n",
    "        word_matrix_indices = np.where(word_matrix > 0)[1]\n",
    "        # Initializing posterior vector\n",
    "        posterior = np.zeros(TOT_DIMENSIONS)\n",
    "        vec_likelihood = np.zeros(TOT_DIMENSIONS)\n",
    "        # Loop around words found in review\n",
    "        for word_matrix_index in word_matrix_indices:\n",
    "            word = vec.get_feature_names_out()[word_matrix_index]\n",
    "            # Check if the word exists in p_w_given_c.words\n",
    "            p_w_given_c_indices = np.where(p_w_given_c.words == word)[0]\n",
    "            if p_w_given_c_indices.size > 0:\n",
    "                p_w_given_c_index = p_w_given_c_indices[0]\n",
    "                vec_likelihood = np.array([p_w_given_c.pos_likelihood[p_w_given_c_index], \n",
    "                                           p_w_given_c.neg_likelihood[p_w_given_c_index]])\n",
    "                # Looping around occurrences | word\n",
    "                for i in range(word_matrix[0, word_matrix_index]):\n",
    "                    numerat = prior * vec_likelihood\n",
    "                    denomin = prior.dot(vec_likelihood)\n",
    "                    posterior = numerat / denomin\n",
    "                    if np.sum(posterior) > 1.01:\n",
    "                        raise Exception('ERROR')\n",
    "                    prior = np.array(posterior)\n",
    "        words_ = vec.get_feature_names_out()[word_matrix_indices]\n",
    "    return {'posterior_': posterior, 'words_': words_}\n",
    "# Function for computing posterior content\n",
    "def compute_posterior_content(prior, corpus_in, dict_words, p_w_given_c, BIGRAM, TOT_DIMENSIONS):\n",
    "    vec = CountVectorizer(vocabulary=dict_words, lowercase=True, ngram_range=(1, BIGRAM))\n",
    "    word_matrix = vec.fit_transform([corpus_in]).toarray()\n",
    "    # Check if there are any relevant words in the review, if there are, treat them. If not, use the prior.\n",
    "    if word_matrix.sum() == 0:\n",
    "        posterior = prior\n",
    "    else:\n",
    "        # Positions in word matrix that have words from this review\n",
    "        word_matrix_indices = np.where(word_matrix > 0)[1]\n",
    "        posterior = np.zeros(TOT_DIMENSIONS)\n",
    "        for word_matrix_index in word_matrix_indices:\n",
    "            word = vec.get_feature_names_out()[word_matrix_index]\n",
    "            p_w_given_c_index = np.where(p_w_given_c.words == word)[0][0]\n",
    "            vec_likelihood = np.array([p_w_given_c.storyline[p_w_given_c_index], \n",
    "                                       p_w_given_c.acting[p_w_given_c_index], \n",
    "                                       p_w_given_c.visual[p_w_given_c_index]])\n",
    "             # Looping around occurrences | word\n",
    "            for i in range(word_matrix[0, word_matrix_index]):\n",
    "                numerat = prior * vec_likelihood\n",
    "                denomin = prior.dot(vec_likelihood)\n",
    "                posterior = numerat / denomin\n",
    "                if np.sum(posterior) > 1.01:\n",
    "                    raise Exception('ERROR')\n",
    "                prior = posterior\n",
    "    return {'posterior_': posterior}\n",
    "# Setting Global Parameters\n",
    "PRIOR_SENT = 1/2\n",
    "PRIOR_CONTENT = 1/3\n",
    "TOT_REVIEWS = len(reviews_raw)"
   ]
  },
  {
   "cell_type": "markdown",
   "id": "db5b4aec-34b2-4d29-ae89-d6f535d18f70",
   "metadata": {},
   "source": [
    "## 6.1 Likelihoods"
   ]
  },
  {
   "cell_type": "markdown",
   "id": "fad200a5-9390-4135-b36d-2d79ebc2a4dd",
   "metadata": {},
   "source": [
    "`QUESTION III:` Create the content likelihoods based on the 3 lists of words below. Be explicit on the decisions you took in the process, and why you made those decisions (e.g., which smoothing approach you used)."
   ]
  },
  {
   "cell_type": "markdown",
   "id": "8d062228-667c-47ca-bb42-f2b797ebc308",
   "metadata": {},
   "source": [
    "`SOLUTION III:`\n",
    "1. **Outline the Lists of phrases for each category:**\n",
    "'storyline_words': phrases associated with the 'storyline' class.\n",
    "'acting_words': words related to the 'appearing' category.\n",
    "'visual_words': words associated with the 'visible' category.\n",
    "\n",
    "2. **Tokenize the movie critiques:**\n",
    "Tokenize the textual content of film critiques, splitting it into person words or tokens.\n",
    "\n",
    "3. **Calculate word Likelihoods for every category:**\n",
    "For every phrase inside the tokenized opinions, calculate the chance of it belonging to each class.\n",
    "Use Laplace (upload-one) smoothing to handle phrases that aren't present in a category. This guarantees that no phrase has a chance of zero.\n",
    "chance(word in class) = (matter(word in class) + 1) / (general words in category + Vocabulary size)\n",
    "The system for calculating the probability of a phrase in a class is as follows:\n",
    "\n",
    "4. **Normalize Likelihoods:**\n",
    "To make sure the likelihoods for every category sum up to at least one for a given phrase, normalize the likelihoods for each \n",
    "word throughout the three categories.\n",
    "\n",
    "5. **Expecting classes for reviews:**\n",
    "For each film assessment, calculate the likelihood of it belonging to each category by multiplying the likelihoods of the words inside the evaluation for each class.\n",
    "Assign the evaluate to the category with the very best chance.\n",
    "\n",
    "6. **Save Predictions:**\n",
    "add the expected classes as a brand new column in your dataset and shop it for similarly evaluation.\n",
    "The decisions made in this technique include the usage of Laplace smoothing to prevent 0 probabilities, normalizing likelihoods to make certain they sum to one, and multiplying likelihoods for character words to get the likelihood for a overview."
   ]
  },
  {
   "cell_type": "markdown",
   "id": "cb3476e4-c916-409c-894c-2876b1f24709",
   "metadata": {},
   "source": [
    "### 6.1.1 Loading the Dictionaries (Training Data)"
   ]
  },
  {
   "cell_type": "code",
   "execution_count": null,
   "id": "e0b3c994-e57c-4e32-b0b4-2fed8c1101b3",
   "metadata": {},
   "outputs": [],
   "source": [
    "dictionary_storyline = pd.read_csv('storyline_33k.txt')\n",
    "dictionary_acting = pd.read_csv('acting_33k.txt')\n",
    "dictionary_visual = pd.read_csv('visual_33k.txt')\n",
    "likelihoods_content = pd.read_csv('likelihood_content.csv')\n",
    "lexicon_content = likelihoods_content.iloc[:, 0].astype(str).tolist()"
   ]
  },
  {
   "cell_type": "markdown",
   "id": "ef2bcaba-56ef-4bab-abe5-ef1b8b213a9f",
   "metadata": {},
   "source": [
    "### 6.1.2 Content/Topic Likelihoods"
   ]
  },
  {
   "cell_type": "code",
   "execution_count": null,
   "id": "9c241fbf-a583-4488-8b53-5e24b621cd7d",
   "metadata": {},
   "outputs": [],
   "source": [
    "dictionary_storyline = set(pd.read_csv('storyline_33k.txt', header=None)[0].values)\n",
    "dictionary_acting = set(pd.read_csv('acting_33k.txt', header=None)[0].values)\n",
    "dictionary_visual = set(pd.read_csv('visual_33k.txt', header=None)[0].values)\n",
    "review_data = pd.read_csv('test_processed_reviews_with_prob.csv')\n",
    "review_data['prob_storyline'] = 1.0\n",
    "review_data['prob_acting'] = 1.0\n",
    "review_data['prob_sound_visual'] = 1.0\n",
    "# Calculate word probabilities outside the loop\n",
    "num_words_storyline = len(dictionary_storyline)\n",
    "word_prob_storyline = 1 / num_words_storyline\n",
    "num_words_acting = len(dictionary_acting)\n",
    "word_prob_acting = 1 / num_words_acting\n",
    "num_words_visual = len(dictionary_visual)\n",
    "word_prob_visual = 1 / num_words_visual\n",
    "# Update the probabilities based on the words in the dictionaries\n",
    "for index, row in review_data.iterrows():\n",
    "    words = row['processed_text'].split()\n",
    "    for word in words:\n",
    "        if word in dictionary_storyline:\n",
    "            review_data.at[index, 'prob_storyline'] *= word_prob_storyline\n",
    "        if word in dictionary_acting:\n",
    "            review_data.at[index, 'prob_acting'] *= word_prob_acting\n",
    "        if word in dictionary_visual:\n",
    "            review_data.at[index, 'prob_sound_visual'] *= word_prob_visual\n",
    "review_data.to_csv('test_processed_reviews_with_prob.csv', index=False)\n",
    "lexicon_content = likelihoods_content.iloc[:, 0].astype(str).tolist()"
   ]
  },
  {
   "cell_type": "markdown",
   "id": "75ce0617-dc67-4aff-ae9f-e6fc29fb7991",
   "metadata": {},
   "source": [
    "### 6.1.3 Sentiment Likelihoods"
   ]
  },
  {
   "cell_type": "markdown",
   "id": "7128895d-32ce-41b9-8eab-db8a7bd0d0a9",
   "metadata": {},
   "source": [
    "`QUESTION IV:` Locate a list of sentiment words that fits your research question. For example, you may want to look just at positive and negative sentiment (hence two dimensions), or you may want to look at other sentiment dimensions, such as specific emotions (excitement, fear, etc.).\n",
    "**TIP:** Google will go a long way for finding these, but do check if there is a paper you can cite that uses your list."
   ]
  },
  {
   "cell_type": "markdown",
   "id": "61da311c-46f4-452f-a23d-39f2367fe457",
   "metadata": {},
   "source": [
    "`SOLUTION IV:`"
   ]
  },
  {
   "cell_type": "code",
   "execution_count": null,
   "id": "2844c305-12ee-4d1a-b009-4a0940420cfa",
   "metadata": {},
   "outputs": [],
   "source": [
    "positive_sentiment = pd.read_csv('positive-words.txt', sep='\\t', header=None, names=['words'])\n",
    "negative_sentiment = pd.read_csv('negative-words.txt', sep='\\t', header=None, names=['words'])\n",
    "likelihoods = {'words': positive_sentiment['words'].tolist() + negative_sentiment['words'].tolist(), 'pos_likelihood': [0.01] * len(positive_sentiment) + [0] * len(negative_sentiment), 'neg_likelihood': [0] * len(positive_sentiment) + [0.01] * len(negative_sentiment)}\n",
    "likelihoods_df = pd.DataFrame(likelihoods)\n",
    "# Compute the total word count\n",
    "total_word_count = likelihoods_df[['pos_likelihood', 'neg_likelihood']].sum().sum()\n",
    "# Calculate positive and negative likelihoods\n",
    "positive_likelihood = likelihoods_df['pos_likelihood'].sum() / total_word_count\n",
    "negative_likelihood = likelihoods_df['neg_likelihood'].sum() / total_word_count\n",
    "# Display the results\n",
    "print('Positive Likelihood:', positive_likelihood)\n",
    "print('Negative Likelihood:', negative_likelihood)\n",
    "# Save the results to a CSV file\n",
    "results = pd.DataFrame({'words': likelihoods_df['words'],'pos_likelihood': likelihoods_df['pos_likelihood'],'neg_likelihood': likelihoods_df['neg_likelihood']})\n",
    "results.to_csv('likelihood_sentiment.csv', index=False)"
   ]
  },
  {
   "cell_type": "markdown",
   "id": "e04057e5-81fb-4d64-bde9-61bd0185340b",
   "metadata": {},
   "source": [
    "## 6.2 Run NBC for Sentiment"
   ]
  },
  {
   "cell_type": "code",
   "execution_count": null,
   "id": "8d45f1a3-9897-4867-958a-e356893b883d",
   "metadata": {},
   "outputs": [],
   "source": [
    "likelihoods_content = pd.read_csv('likelihood_content.csv')\n",
    "processed_reviews = pd.read_csv('test_processed_reviews_with_prob.csv')\n",
    "# Initialize the probabilities\n",
    "processed_reviews['prob_storyline'] = 1.0\n",
    "processed_reviews['prob_acting'] = 1.0\n",
    "processed_reviews['prob_sound_visual'] = 1.0\n",
    "# Update the probabilities based on the words in the likelihoods_content DataFrame\n",
    "for index, row in processed_reviews.iterrows():\n",
    "    words = row['processed_text'].split()\n",
    "    for word in words:\n",
    "        if word in likelihoods_content['words'].values:\n",
    "            word_likelihoods = likelihoods_content[likelihoods_content['words'] == word].iloc[0]\n",
    "            processed_reviews.at[index, 'prob_storyline'] *= word_likelihoods['storyline']\n",
    "            processed_reviews.at[index, 'prob_acting'] *= word_likelihoods['acting']\n",
    "            processed_reviews.at[index, 'prob_sound_visual'] *= word_likelihoods['visual']\n",
    "processed_reviews.to_csv('test_processed_reviews_with_prob.csv', index=False)"
   ]
  },
  {
   "cell_type": "markdown",
   "id": "9bb237f9-c651-4723-8e94-4dd7aab75207",
   "metadata": {},
   "source": [
    "## 6.3 Run NBC for Content"
   ]
  },
  {
   "cell_type": "code",
   "execution_count": null,
   "id": "6e19abd2-ef7f-4bbf-beca-9e5d27498585",
   "metadata": {},
   "outputs": [],
   "source": [
    "for review_index in range(TOT_REVIEWS):\n",
    "    print(f'Computing content of review # {review_index}') if review_index%100 == 0 else None\n",
    "    if reviews_raw['full_text'].iloc[review_index] != \"\":\n",
    "        text_review = str(reviews_raw['processed_text'].iloc[review_index])\n",
    "        text_review = text_review.translate(str.maketrans('', '', string.punctuation))\n",
    "        text_review = ''.join([i for i in text_review if not i.isdigit()])  \n",
    "        # Compute posterior probability the review is about each topic/content\n",
    "        TOT_DIMENSIONS = 3\n",
    "        prior_content = np.repeat(PRIOR_CONTENT, TOT_DIMENSIONS).reshape(-1, TOT_DIMENSIONS)\n",
    "        posterior_content = compute_posterior_content(prior=prior_content, \n",
    "                                              corpus_in=text_review,\n",
    "                                              dict_words=lexicon_content,\n",
    "                                              p_w_given_c=likelihoods_content, \n",
    "                                              BIGRAM=2,\n",
    "                                              TOT_DIMENSIONS=TOT_DIMENSIONS)\n",
    "        reviews_raw.loc[review_index, 'prob_storyline'] = posterior_content['posterior_'][0][0]\n",
    "        reviews_raw.loc[review_index, 'prob_acting'] = posterior_content['posterior_'][0][1]\n",
    "        reviews_raw.loc[review_index, 'prob_sound_visual'] = posterior_content['posterior_'][0][2]\n",
    "processed_reviews = reviews_raw\n",
    "processed_reviews.to_csv('test_processed_reviews_with_prob.csv', index=False)"
   ]
  },
  {
   "cell_type": "markdown",
   "id": "70e46a97-62f9-41e7-916b-754b0ae4238c",
   "metadata": {},
   "source": [
    "# 7. Supervised Learning: Inspect the NBC Performance"
   ]
  },
  {
   "cell_type": "markdown",
   "id": "6f721df9-58de-4e74-b7c5-ad0449c2cc42",
   "metadata": {},
   "source": [
    "## 7.1 Load the Judge Scores"
   ]
  },
  {
   "cell_type": "code",
   "execution_count": null,
   "id": "b12176de-180e-4295-ad05-d929b51b7c0d",
   "metadata": {},
   "outputs": [],
   "source": [
    "judges_data = pd.read_csv('judges.csv')\n",
    "judges_classification = judges_data['Judges_classification']\n",
    "unique_labels = judges_classification.unique()"
   ]
  },
  {
   "cell_type": "markdown",
   "id": "efa88067-1ea3-4c06-8fe3-f4da97ecbe60",
   "metadata": {},
   "source": [
    "## 7.2 Compute Confusion Matrix, Precision, and Recall"
   ]
  },
  {
   "cell_type": "markdown",
   "id": "60cec1a9-5906-4758-8117-a5dd6efe79ab",
   "metadata": {},
   "source": [
    "`QUESTION V:` Compare the performance of your NBC implementation (for content) against the judges ground truth by building the confusion matrix and computing the precision and accuracy scores. **Do not forget to interpret your findings.**"
   ]
  },
  {
   "cell_type": "code",
   "execution_count": null,
   "id": "734d44bb-e16f-42f2-9ecb-8135eaa236b7",
   "metadata": {},
   "outputs": [],
   "source": [
    "likelihood_data = pd.read_csv('likelihood_content.csv')\n",
    "# Use the 'words' column as the token/word and Use the other columns as likelihood values for their respective categories\n",
    "X = likelihood_data[['storyline', 'acting', 'visual']] \n",
    "y = likelihood_data['words']  # Corresponding tokens/words\n",
    "# Split the data into training and testing sets\n",
    "X_train, X_test, y_train, y_test = train_test_split(X, y, test_size=0.2, random_state=42)\n",
    "nb_classifier = MultinomialNB()\n",
    "nb_classifier.fit(X_train, y_train)\n",
    "# Predict the token/word categories\n",
    "y_pred = nb_classifier.predict(X_test)\n",
    "# Calculate confusion matrix\n",
    "confusion = confusion_matrix(y_test, y_pred)\n",
    "# Calculate TP, FP, FN, and TN\n",
    "TP = confusion.diagonal()\n",
    "FP = confusion.sum(axis=0) - TP\n",
    "FN = confusion.sum(axis=1) - TP\n",
    "TN = confusion.sum() - (TP + FP + FN)\n",
    "# Calculate accuracy\n",
    "accuracy = np.where((TP + FP + FN + TN) == 0, 0, (TP + TN) / (TP + FP + FN + TN))\n",
    "# Calculate precision with handling division by zero\n",
    "precision = np.where((TP + FP) == 0, 0, TP / (TP + FP))\n",
    "# Calculate recall with handling division by zero\n",
    "recall = np.where((TP + FN) == 0, 0, TP / (TP + FN))\n",
    "print(\"Confusion Matrix:\")\n",
    "print(confusion)\n",
    "print(\"\\nAccuracy:\")\n",
    "print(accuracy)\n",
    "print(\"\\nPrecision:\")\n",
    "print(precision)\n",
    "print(\"\\nRecall:\")\n",
    "print(recall)\n",
    "report = classification_report(y_test, y_pred, labels=likelihood_data['words'].unique(), zero_division=1)\n",
    "print(\"\\nClassification Report:\")\n",
    "print(report)"
   ]
  },
  {
   "cell_type": "markdown",
   "id": "ff461502-a62d-4a20-a1d5-9f8467c77db1",
   "metadata": {},
   "source": [
    "`SOLUTION V:`\n",
    "\n",
    "**Confusion Matrix and overall performance Metrics:**\n",
    "The confusion matrix is a representation of the classifier's overall performance by way of evaluating anticipated labels to actual labels. in this example, the matrix has dimensions 21x21, corresponding to the 21 distinct phrases or tokens. Each mobile within the matrix indicates the count of times a particular word turned into labeled.\n",
    "\n",
    "The class document presents critical metrics for evaluating the classifier's overall performance:\n",
    "\n",
    "**Accuracy:**\n",
    "The accuracy for all instructions is suggested as 0.ninety five. however, it's crucial to word that the accuracy here is calculated as (TP+TN) / (TP+FP+FN+TN), ensuing in zero.95 for all classes. This metric can be deceptive and not meaningful because of the absence of correct predictions (TP and TN).\n",
    "\n",
    "**Precision:**\n",
    "Precision measures the share of expected high quality instances that were surely wonderful. In this case, the precision is calculated for every word, yielding 0 for all classes. This suggests that the classifier is unable to correctly become aware of fine instances for any word.\n",
    "\n",
    "**Recall (Sensitivity or True Positive Rate):**\n",
    "Recollect evaluates how many of the actual wonderful instances had been efficiently predicted as tremendous. Just like precision, do not forget is calculated for every word, ensuing in 0 for all cases. This suggests that the classifier is failing to as it should be discover effective instances for any word.\n",
    "\n",
    "**F1-score:**\n",
    "The F1-score, the harmonic suggest of precision and keep in mind, which is also 0 for all phrases due to the 0 precision and don't forget values.\n",
    "\n",
    "**Support:**\n",
    "The support score represents the number of occurrences of each phrase within the test dataset.\n",
    "\n",
    "**Interpretation:**\n",
    "The outcomes strongly endorse that the Naive Bayes Classifier (NBC) is not appearing well for content material probability prediction. The classifier struggles to differentiate among one of a kind phrases, as obtrusive from the excessive number of zeros in the confusion matrix and the ensuing 0 precision and keep in mind values. Capacity elements contributing to this terrible performance ought to consist of dataset problems consisting of unbalanced elegance distribution, insufficient schooling statistics, or challenges with feature extraction. additionally, it is worth thinking about whether or not the Naive Bayes Classifier is the maximum suitable set of rules for this specific project."
   ]
  },
  {
   "cell_type": "markdown",
   "id": "094acf09-939d-45ff-a9a5-23506df6e5ab",
   "metadata": {},
   "source": [
    "# 8. Unsupervised Learning: Predicting Box Office using LDA"
   ]
  },
  {
   "cell_type": "markdown",
   "id": "ba10f03b-e88b-4fed-b3dd-5326ba9a3a33",
   "metadata": {},
   "source": [
    "`QUESTION VI:` Using Latent Dirichlet Allocation (LDA), predict the movie box office."
   ]
  },
  {
   "cell_type": "code",
   "execution_count": null,
   "id": "08388bf7-f3d3-4606-aa26-d69dcfb0efe5",
   "metadata": {},
   "outputs": [],
   "source": [
    "data = pd.read_csv('test_processed_reviews_with_prob.csv')\n",
    "data = data[['movie_name', 'processed_text', 'first_week_box_office']]\n",
    "data['processed_text'] = data['processed_text'].str.lower()\n",
    "data['first_week_box_office'] = data['first_week_box_office'].str.replace(',', '').astype(float)\n",
    "# Vectorize the text data\n",
    "vectorizer = CountVectorizer(max_features=1000, stop_words='english')\n",
    "X_vectorized = vectorizer.fit_transform(data['processed_text'])\n",
    "# Apply Latent Dirichlet Allocation (LDA) for feature extraction\n",
    "lda = LatentDirichletAllocation(n_components=8, random_state=42)\n",
    "X_lda = lda.fit_transform(X_vectorized)\n",
    "# Create a DataFrame for document-topic distribution\n",
    "df_document_topic = pd.DataFrame(X_lda, columns=[f'Topic_{i+1}' for i in range(X_lda.shape[1])])\n",
    "X_train, X_test, y_train, y_test = train_test_split(X_lda, data['first_week_box_office'], test_size=0.2, random_state=42)\n",
    "model = LinearRegression()\n",
    "model.fit(X_train, y_train)\n",
    "# Predict the first week box office earnings\n",
    "y_pred = model.predict(X_test)\n",
    "print(\"\\nDocument-Topic Distribution:\")\n",
    "print(df_document_topic)\n",
    "print(\"Predicted Box Office Earnings:\")\n",
    "print(y_pred)"
   ]
  },
  {
   "cell_type": "markdown",
   "id": "4ade221f-a203-4021-925f-788bb3a7896b",
   "metadata": {},
   "source": [
    "`SOLUTION VI:`\n",
    "\n",
    "**Distribution:**\n",
    "The desk presentations the distribution of topics (represented by way of Topic_1 to Topic_8) across a thousand files (or objects). Every row corresponds to a report, and the values in each column suggest the share of that record related to each topic. for example, within the first row, Topic_3 has the best share at about 51.48%, followed by means of Topic_5 at around 44.35%.\n",
    "\n",
    "**Predicted profits:**\n",
    "The subsequent array offers predicted container workplace income for some scenario or prediction venture. every price inside the array represents the anticipated container office income for a specific object or film. These predictions may be either superb or negative, suggesting ability profitability or loss for each movie.\n",
    "\n",
    "**Interpretation:**\n",
    "The document-topic distribution gives insights into how established one of a kind topics are throughout a set of files. on this context, the subjects (Topic_1 to Topic_8) constitute unique issues or topics that the documents would possibly speak.\n",
    "The predicted box office income array shows monetary effects for a hard and fast of films or items. Wonderful values imply anticipated earnings, even as negative values suggest expected losses inside the container workplace income."
   ]
  },
  {
   "cell_type": "markdown",
   "id": "16ae7495-1dee-4ba3-8a08-b1faa5d13320",
   "metadata": {},
   "source": [
    "# 9. Unsupervised Learning: Predicting the Box Office using Word2Vec"
   ]
  },
  {
   "cell_type": "markdown",
   "id": "2512cda3-f0b2-4693-8987-aab0d6ab2b44",
   "metadata": {},
   "source": [
    "`QUESTION VII:` Using Word2Vec, predict movie box office.\n",
    "+ **Tip 1:** You can reduce the dimensionality of the output of Word2Vec with PDA/Factor Analysis. This will save you computing time.\n",
    "+ **Tip 2:** Word2Vec wil give you word vectors. You can then compute the average of these word vectors for all words in a review. This will give you vector describing the content of a review, which you can use as your constructed variable(s)."
   ]
  },
  {
   "cell_type": "code",
   "execution_count": null,
   "id": "3b1dff43-7d5f-47af-ba27-972ea32ab504",
   "metadata": {},
   "outputs": [],
   "source": [
    "data = pd.read_csv('test_processed_reviews_with_prob.csv')\n",
    "data = data[['movie_name', 'processed_text', 'first_week_box_office']]\n",
    "data['processed_text'] = data['processed_text'].str.lower().str.split()\n",
    "data['first_week_box_office'] = data['first_week_box_office'].str.replace(',', '').astype(float)\n",
    "X_train, X_test, y_train, y_test = train_test_split(data['processed_text'], data['first_week_box_office'], test_size=0.2, random_state=42)\n",
    "# Train a Word2Vec model on your training text data\n",
    "word2vec_model = Word2Vec(sentences=X_train, vector_size=100, window=5, min_count=1, sg=0)\n",
    "# Function to average word vectors for a document\n",
    "def average_word_vectors(words, model, num_features):\n",
    "    feature_vector = np.zeros((num_features,), dtype=\"float32\")\n",
    "    nwords = 0\n",
    "    for word in words:\n",
    "        if word in model.wv.index_to_key:\n",
    "            nwords += 1\n",
    "            feature_vector = np.add(feature_vector, model.wv[word])\n",
    "    if nwords > 0:\n",
    "        feature_vector = np.divide(feature_vector, nwords)\n",
    "    return feature_vector\n",
    "# Create average Word2Vec representations for reviews\n",
    "train_vectors = np.array([average_word_vectors(review, word2vec_model, 100) for review in X_train])\n",
    "test_vectors = np.array([average_word_vectors(review, word2vec_model, 100) for review in X_test])\n",
    "# Apply PCA for dimensionality reduction\n",
    "pca = PCA(n_components=10)  # You can adjust the number of components as needed\n",
    "train_vectors_pca = pca.fit_transform(train_vectors)\n",
    "test_vectors_pca = pca.transform(test_vectors)\n",
    "model = LinearRegression()\n",
    "model.fit(train_vectors_pca, y_train)\n",
    "# Calculate the slopes for each feature (principal component)\n",
    "slopes = model.coef_\n",
    "# Print the Document-Topic Distribution\n",
    "print(\"Document-Topic Distribution:\")\n",
    "document_topic_distribution = pd.DataFrame(train_vectors_pca, columns=[f'Topic_{i+1}' for i in range(10)])\n",
    "print(document_topic_distribution)\n",
    "print(\"Predicted Box Office Earnings:\")\n",
    "predicted_earnings = model.predict(test_vectors_pca)\n",
    "print(predicted_earnings)"
   ]
  },
  {
   "cell_type": "markdown",
   "id": "347a83e3-1f6c-42a8-a0fe-84ef40db06e9",
   "metadata": {},
   "source": [
    "`SOLUTION VII:`\n",
    "\n",
    "**Distribution:**\n",
    "The table represents the distribution of various subjects (categorized as Topic_1 to Topic_10) across 800 documents. every row corresponds to a document, and the values in each column imply the relevance or contribution of a selected subject matter to that file. these values can be negative or superb, indicating the strength and route of the affiliation between the report and the topic.\n",
    "\n",
    "**Predicted profits:**\n",
    "The array affords the predicted field workplace income for a fixed of eventualities or gadgets, probable films on this context. every value in the array represents the expected container office earnings for a selected item. These predictions can be high-quality or bad, indicating ability profitability or loss for each movie.\n",
    "\n",
    "**Interpretation:**\n",
    "The document-topic distribution presents insights into how widespread or applicable specific topics are inside every record. topics with high quality values are greater associated with the respective report, even as subjects with terrible values are much less related or even doubtlessly contradictory to the file's content.\n",
    "The anticipated container workplace earnings array shows the envisioned economic consequences for a hard and fast of movies. High-quality values indicate expected profits, at the same time as poor values indicate predicted losses in field workplace profits."
   ]
  },
  {
   "cell_type": "markdown",
   "id": "bc418793",
   "metadata": {},
   "source": [
    "# 10. Analysis: Use the constructed variables to answer your research question"
   ]
  },
  {
   "cell_type": "markdown",
   "id": "70af398c-c5b0-4ee6-b64a-548071cd52ca",
   "metadata": {},
   "source": [
    "`QUESTION VIII:` Now that you have constructed your NLP variables for sentiment and content using both supervised and unsupervised methods, use them to answer your original research question."
   ]
  },
  {
   "cell_type": "code",
   "execution_count": null,
   "id": "040dda02-64e8-4be7-8b1f-be5e6e80ab78",
   "metadata": {
    "scrolled": true
   },
   "outputs": [],
   "source": [
    "data = pd.read_csv('test_processed_reviews_with_prob.csv')\n",
    "data['prob_sentiment'] = pd.to_numeric(data['prob_sentiment'], errors='coerce')\n",
    "data.fillna(data.mean(), inplace=True) # Fill NaN values with the mean of the column\n",
    "# Define independent variables (X) and dependent variable (Y)\n",
    "X = data[['raters', 'prob_storyline', 'prob_acting', 'prob_sound_visual']]\n",
    "y = data['ratio_helpful']\n",
    "# Split the data into training and testing sets\n",
    "X_train, X_test, y_train, y_test = train_test_split(X, y, test_size=0.2, random_state=42)\n",
    "model = LinearRegression()\n",
    "model.fit(X_train, y_train)\n",
    "formula = 'ratio_helpful ~ raters + prob_storyline + prob_acting + prob_sound_visual'\n",
    "lm = sm.OLS.from_formula(formula=formula, data=data).fit() # Compute ANOVA table\n",
    "anova_table = sm.stats.anova_lm(lm, typ=2)\n",
    "n = len(y) # Calculate adjusted R-squared\n",
    "p = len(model.coef_) + 1  # Number of predictors + 1 for the intercept\n",
    "adjusted_r2 = 1 - (1 - r2_score(y_test, y_pred)) * (n - 1) / (n - p)\n",
    "print(\"ANOVA Table:\")\n",
    "print(anova_table)\n",
    "print(f'Adjusted R-squared: {adjusted_r2}')\n",
    "# Make predictions and Evaluate the model\n",
    "y_pred = model.predict(X_test)\n",
    "mse = mean_squared_error(y_test, y_pred)\n",
    "r2 = r2_score(y_test, y_pred)\n",
    "print(f'Mean Squared Error: {mse}')\n",
    "print(f'R-squared: {r2}')\n",
    "# Visualization: Regression Line\n",
    "plt.scatter(X_test['raters'], y_test, color='blue', label='True Values')\n",
    "plt.plot(X_test['raters'], y_pred, color='red', linewidth=2, label='Regression Line')\n",
    "plt.xlabel('raters')\n",
    "plt.ylabel('ratio_helpful')\n",
    "plt.title('Regression Line')\n",
    "plt.legend()\n",
    "plt.show()"
   ]
  },
  {
   "cell_type": "markdown",
   "id": "5b0ea384-f220-4ecc-a0dc-efc88dbd4d0a",
   "metadata": {},
   "source": [
    "`SOLUTION VIII:`\n",
    "\n",
    "**ANOVA Table Summary:**\n",
    "- Sum of Squares (sum_sq): The sum of squared deviations from the mean, indicating the total variance attributed to each factor.\n",
    "\n",
    "- Degrees of Freedom (df): The degrees of freedom associated with each source of variation, indicating the degree of freedom within the data that each factor explains.\n",
    "\n",
    "- F-statistic (F): The test statistic for ANOVA, measuring the ratio of variance among groups to the variance within groups. A higher F-value indicates a larger difference among group means relative to within-group variability.\n",
    "\n",
    "- p-value (PR(>F)): The p-value associated with the F-statistic, indicating the probability of obtaining the observed F-statistic or a more extreme value, assuming the null hypothesis (no group differences) is true. Smaller p-values suggest stronger evidence against the null hypothesis.\n",
    "\n",
    "**Interpretation:**\n",
    "- Raters: The p-value is extremely small (about 1.3e-07), indicating strong evidence that the number of raters significantly affects the outcome.\n",
    "- Prob_storyline, Prob_acting, Prob_sound_visual: These variables do not seem to have a significant impact, as their p-values are high (greater than 0.05).\n",
    "- Residual: This represents the unexplained variance. The F-statistic and p-value are not available for the residual.\n",
    "\n",
    "**Model Evaluation:**\n",
    "- Mean Squared Error (MSE): The Mean Squared Error (MSE) is a measure of the average squared differences between expected values and actual (observed) values. A smaller MSE indicates a better fit of the model to the data.\n",
    "\n",
    "- R-squared: R-squared is a measure of how well the model explains the variance in the data. In this case, the negative R-squared value (-0.49) is unusual and may suggest that the model does not fit the data well.\n",
    "\n",
    "- Adjusted R-squared: The adjusted R-squared is approximately -0.49. It's important to note that the adjusted R-squared can be negative when the model fits the data worse than a horizontal line. In this case, the negative value indicates that the model does not fit the data well and may not be appropriate for making predictions.\n",
    "\n",
    "**Overall Summary:**\n",
    "In summary, the number of raters (raters) is the only significant factor affecting the outcome, while the other variables (prob_storyline, prob_acting, prob_sound_visual) do not significantly affect the outcome. However, the model overall does not fit the data well, as indicated by the unusual negative R-squared value and the high Mean Squared Error. Further investigation and potential model adjustments may be necessary."
   ]
  },
  {
   "cell_type": "markdown",
   "id": "a82c7a5c-63ba-4a0f-b313-8bc50d0272c1",
   "metadata": {},
   "source": [
    "## Conclusion: "
   ]
  },
  {
   "cell_type": "markdown",
   "id": "c99b6716",
   "metadata": {},
   "source": [
    "- **Reader engagement matters:** The variety of readership significantly impacts the perceived fee and engagement of film reviews. Opinions that resonate with a broader target market are more likely to be deemed useful, probably influencing a wider readership. Reviewers need to strategize to increase the visibility and attain in their opinions, along with thru effective use of social media platforms.\n",
    "- **Ratings play a remendous position:** Rankings, whether inside the form of big name scores or person rankings, serve as robust indicators of assessment best and consumer engagement. Favorable rankings decorate a assessment's credibility, making it more persuasive. It's miles vital for reviewers to preserve credibility by way of supplying unbiased and honest exams of films.\n",
    "- **Content classes affect engagement:** The categorization of content material inside a film evaluation, encompassing aspects like storyline, appearing, visuals, and sound, can extensively impact engagement. Our analysis revealed that while sure content classes can also exert a giant influence on engagement (e.g., storyline), others might also hold simplest marginal significance (e.g., sound and visuals). Reviewers should don't forget emphasizing content factors that resonate most with their audience.\n",
    "- **Consider diverse views:** Our evaluation suggests that overview engagement and usability may range based totally at the choices of the target market. one of a kind readers may also prioritize wonderful components of a movie, which include the storyline, acting, or visuals. Reviewers can enhance engagement by way of tailoring their evaluations to cater to various perspectives and hobbies.\n",
    "- **Enhancements in assessment advice algorithms:** Platforms using algorithms to curate and endorse movie valuations can benefit from knowledge those elements. Via thinking about variables just like the number of readers, scores, and content material categories, recommendation algorithms can better align evaluations with users' options, ensuing in more enticing and valuable recommendations.\n",
    "\n",
    "**In conclusion:**: Expertise the elements that affect the application and engagement of film opinions is paramount for both reviewers and platforms. Reviewers should cognizance on upholding credibility, considering numerous perspectives, and tailoring their content material to engage a broader target market. Platforms can leverage this know-how to beautify their advice algorithms, in the end enhancing the person enjoy. In the long run, effective film critiques contribute to informed movie alternatives and decorate the general film-watching enjoy for audiences."
   ]
  },
  {
   "cell_type": "markdown",
   "id": "ef90917d",
   "metadata": {},
   "source": [
    "# OPTIONAL: Run and interpret sentiment with the supervised learning VADER lexicon"
   ]
  },
  {
   "cell_type": "markdown",
   "id": "6ac9cc3b-1f44-49c0-a55b-2a74c97af14a",
   "metadata": {},
   "source": [
    "`QUESTION IX (optional):` Using the VADER code you received in the lecture, compute the sentiment using the VADER package. Compare the performance of your NBC implementation (for sentiment) assuming that the VADER classification were the ground truth and then build the confusion matrix, compute the precision, and computre the recall. **Note** that we are now interested in understanding how much the two classifications differ and how, but we are not implying that VADER is error-free, far from it. We are interested in uncovering sources of systemic differences that can be attributed to the algorithms or lexicons. **Do interpret your findings**."
   ]
  },
  {
   "cell_type": "code",
   "execution_count": null,
   "id": "154b3a6b-8c8c-432e-858a-3fb3da7c6276",
   "metadata": {},
   "outputs": [],
   "source": [
    "analyzer = SentimentIntensityAnalyzer()\n",
    "for review_index in range(TOT_REVIEWS):\n",
    "    if (review_index % 100) == 0: \n",
    "        print(f\"Computing VADER sentiment of review #{review_index}\")\n",
    "    if reviews_raw.loc[review_index, 'full_text'] != \"\":\n",
    "        text_review = reviews_raw.loc[review_index, 'processed_text']\n",
    "        # Pre-process the review to remove numbers and punctuation marks.\n",
    "        text_review = re.sub(r'\\b\\w{1,2}\\b', '', text_review)\n",
    "        text_review = re.sub(r'[^a-zA-Z ]+', ' ', text_review)\n",
    "        text_review = ' '.join(text_review.split())\n",
    "        vader_scores = analyzer.polarity_scores(text_review)\n",
    "        reviews_raw.loc[review_index, 'vader_pos'] = vader_scores['pos']\n",
    "processed_reviews = reviews_raw\n",
    "processed_reviews.to_csv('VADER_processed_reviews.csv', index=False)"
   ]
  },
  {
   "cell_type": "markdown",
   "id": "c8ca24d3-0ef6-44d3-8321-edba0eff360b",
   "metadata": {},
   "source": [
    "`SOLUTION IX (optional):`\n",
    "\n",
    "- VADER Sentiment analysis:\n",
    "VADER is a pre-educated sentiment analysis tool that assigns sentiment ratings to textual content facts. It affords polarity rankings, along with nice, terrible, and neutral sentiments. these ratings are generally continuous values between -1 and 1, where -1 suggests a surprisingly terrible sentiment, 1 indicates a extraordinarily nice sentiment, and zero suggests a neutral sentiment.\n",
    "\n",
    "- NBC Sentiment analysis:\n",
    "The NBC implementation likely assigns sentiment labels (e.g., \"fantastic,\" \"terrible,\" \"impartial\") to textual content facts primarily based on the content likelihoods of various words or tokens. but, primarily based at the confusion matrix and class report, the NBC might not be performing properly for sentiment analysis.\n",
    "\n",
    "**Intrepretation:**\n",
    "\n",
    "If VADER and NBC largely agree in their predictions, it shows that each techniques are powerful in sentiment evaluation for your dataset. however, if they differ considerably, it means that one or each techniques may additionally have limitations.\n",
    "Differences in sentiment predictions could arise from versions in lexicons, education facts, or algorithms utilized by VADER and your NBC. for example, VADER would possibly excel in taking pictures sentiment nuances because of its significant lexicon, even as NBC might also war due to boundaries inside the probability information or version.\n",
    "Examining in which VADER and NBC disagree can provide insights into particular phrases or phrases which can be challenging for NBC."
   ]
  },
  {
   "cell_type": "markdown",
   "id": "644eb11f-f85d-4c83-99a9-9224b8ca53a8",
   "metadata": {},
   "source": [
    "# APPENDIX"
   ]
  },
  {
   "cell_type": "code",
   "execution_count": null,
   "id": "4aea1466",
   "metadata": {},
   "outputs": [],
   "source": [
    "print(\"Here is the link for packages in Assignment 1: https://github.com/yihonyao/BigData_Erasmus\")"
   ]
  },
  {
   "cell_type": "code",
   "execution_count": null,
   "id": "57bf1765",
   "metadata": {},
   "outputs": [],
   "source": []
  }
 ],
 "metadata": {
  "kernelspec": {
   "display_name": "Python 3 (ipykernel)",
   "language": "python",
   "name": "python3"
  },
  "language_info": {
   "codemirror_mode": {
    "name": "ipython",
    "version": 3
   },
   "file_extension": ".py",
   "mimetype": "text/x-python",
   "name": "python",
   "nbconvert_exporter": "python",
   "pygments_lexer": "ipython3",
   "version": "3.9.7"
  }
 },
 "nbformat": 4,
 "nbformat_minor": 5
}
